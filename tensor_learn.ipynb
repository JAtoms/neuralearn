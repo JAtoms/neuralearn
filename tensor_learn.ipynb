{
  "nbformat": 4,
  "nbformat_minor": 0,
  "metadata": {
    "colab": {
      "provenance": [],
      "gpuType": "T4",
      "authorship_tag": "ABX9TyOAF6oJMvw0geL5HC5FB2kJ",
      "include_colab_link": true
    },
    "kernelspec": {
      "name": "python3",
      "display_name": "Python 3"
    },
    "language_info": {
      "name": "python"
    },
    "accelerator": "GPU"
  },
  "cells": [
    {
      "cell_type": "markdown",
      "metadata": {
        "id": "view-in-github",
        "colab_type": "text"
      },
      "source": [
        "<a href=\"https://colab.research.google.com/github/JAtoms/neuralearn/blob/main/tensor_learn.ipynb\" target=\"_parent\"><img src=\"https://colab.research.google.com/assets/colab-badge.svg\" alt=\"Open In Colab\"/></a>"
      ]
    },
    {
      "cell_type": "code",
      "source": [
        "import tensorflow as tf"
      ],
      "metadata": {
        "id": "qH-EwN93Tfdn"
      },
      "execution_count": null,
      "outputs": []
    },
    {
      "cell_type": "code",
      "source": [
        "tensor_zero_d = tf.constant(4)\n",
        "print(tensor_zero_d)"
      ],
      "metadata": {
        "colab": {
          "base_uri": "https://localhost:8080/"
        },
        "id": "yiWgfOppdDCM",
        "outputId": "1e1e00fa-2c2c-4b09-a124-045f1ab3b61e"
      },
      "execution_count": null,
      "outputs": [
        {
          "output_type": "stream",
          "name": "stdout",
          "text": [
            "tf.Tensor(4, shape=(), dtype=int32)\n"
          ]
        }
      ]
    },
    {
      "cell_type": "code",
      "source": [
        "one_d = tf.constant([2,0,-3,8,90])\n",
        "print(one_d)"
      ],
      "metadata": {
        "colab": {
          "base_uri": "https://localhost:8080/"
        },
        "id": "H51nA00ww63j",
        "outputId": "1bd6079a-566c-4b61-b45d-e5a860829d78"
      },
      "execution_count": null,
      "outputs": [
        {
          "output_type": "stream",
          "name": "stdout",
          "text": [
            "tf.Tensor([ 2  0 -3  8 90], shape=(5,), dtype=int32)\n"
          ]
        }
      ]
    },
    {
      "cell_type": "code",
      "source": [
        "two_d = tf.constant([\n",
        "    [1,2,0],\n",
        "     [3,5,-1],\n",
        "      [1,5,6],\n",
        "       [2,3,8]\n",
        "     ]\n",
        "    )\n",
        "print(two_d.ndim)"
      ],
      "metadata": {
        "colab": {
          "base_uri": "https://localhost:8080/"
        },
        "id": "voekxh6VxdQ4",
        "outputId": "35418bfa-6651-4fdb-e4ee-63749d559a84"
      },
      "execution_count": null,
      "outputs": [
        {
          "output_type": "stream",
          "name": "stdout",
          "text": [
            "2\n"
          ]
        }
      ]
    },
    {
      "cell_type": "code",
      "source": [
        "three_d = tf.constant([\n",
        "    [[1,2,0],\n",
        "    [3,5,-1]],\n",
        "\n",
        "    [[10,2,0],\n",
        "    [1,0,2]],\n",
        "\n",
        "    [[5,8,0],\n",
        "    [2,7,0]],\n",
        "\n",
        "    [[2,1,9],\n",
        "    [4,-3,32]],\n",
        "\n",
        "])\n",
        "\n",
        "print(three_d.shape)"
      ],
      "metadata": {
        "colab": {
          "base_uri": "https://localhost:8080/"
        },
        "id": "uQYFLORFyDHt",
        "outputId": "24ce5443-d2ca-4619-be9e-136541e16f3d"
      },
      "execution_count": null,
      "outputs": [
        {
          "output_type": "stream",
          "name": "stdout",
          "text": [
            "(4, 2, 3)\n"
          ]
        }
      ]
    },
    {
      "cell_type": "code",
      "source": [
        "four_d = tf.constant([\n",
        "    [\n",
        "    [[1,2,0],\n",
        "    [3,5,-1]],\n",
        "\n",
        "    [[10,2,0],\n",
        "    [1,0,2]],\n",
        "\n",
        "    [[5,8,0],\n",
        "    [2,7,0]],\n",
        "\n",
        "    [[2,1,9],\n",
        "    [4,-3,32]],\n",
        "    ],\n",
        "\n",
        "    [\n",
        "    [[1,2,0],\n",
        "    [3,5,-1]],\n",
        "\n",
        "    [[10,2,0],\n",
        "    [1,0,2]],\n",
        "\n",
        "    [[5,8,0],\n",
        "    [2,7,0]],\n",
        "\n",
        "    [[2,1,9],\n",
        "    [4,-3,32]],\n",
        "    ],\n",
        "\n",
        "])\n",
        "\n",
        "print(four_d.shape)\n",
        "print(four_d.ndim)\n",
        "four_casted = tf.cast(four_d, dtype = tf.bool)\n",
        "print(four_casted)"
      ],
      "metadata": {
        "colab": {
          "base_uri": "https://localhost:8080/"
        },
        "id": "IR32gIr5zz6S",
        "outputId": "40a5a51a-6e7b-4de0-bbf5-c7c290653604"
      },
      "execution_count": null,
      "outputs": [
        {
          "output_type": "stream",
          "name": "stdout",
          "text": [
            "(2, 4, 2, 3)\n",
            "4\n",
            "tf.Tensor(\n",
            "[[[[ True  True False]\n",
            "   [ True  True  True]]\n",
            "\n",
            "  [[ True  True False]\n",
            "   [ True False  True]]\n",
            "\n",
            "  [[ True  True False]\n",
            "   [ True  True False]]\n",
            "\n",
            "  [[ True  True  True]\n",
            "   [ True  True  True]]]\n",
            "\n",
            "\n",
            " [[[ True  True False]\n",
            "   [ True  True  True]]\n",
            "\n",
            "  [[ True  True False]\n",
            "   [ True False  True]]\n",
            "\n",
            "  [[ True  True False]\n",
            "   [ True  True False]]\n",
            "\n",
            "  [[ True  True  True]\n",
            "   [ True  True  True]]]], shape=(2, 4, 2, 3), dtype=bool)\n"
          ]
        }
      ]
    },
    {
      "cell_type": "code",
      "source": [
        "import numpy as np"
      ],
      "metadata": {
        "id": "b_Sg3Gai4f3u"
      },
      "execution_count": null,
      "outputs": []
    },
    {
      "cell_type": "code",
      "source": [
        "np_array = np.array([1,2,3,4])\n",
        "print(np_array)"
      ],
      "metadata": {
        "colab": {
          "base_uri": "https://localhost:8080/"
        },
        "id": "1tHusLnm4k5i",
        "outputId": "4e195bd2-0a9e-4677-a158-f032bd9e0a19"
      },
      "execution_count": null,
      "outputs": [
        {
          "output_type": "stream",
          "name": "stdout",
          "text": [
            "[1 2 3 4]\n"
          ]
        }
      ]
    },
    {
      "cell_type": "code",
      "source": [
        "converted_tensor = tf.convert_to_tensor(np_array)\n",
        "print(converted_tensor)"
      ],
      "metadata": {
        "colab": {
          "base_uri": "https://localhost:8080/"
        },
        "id": "jrUZmRyx5ZPo",
        "outputId": "84303a92-010d-4e92-e4d5-5cb7b526859d"
      },
      "execution_count": null,
      "outputs": [
        {
          "output_type": "stream",
          "name": "stdout",
          "text": [
            "tf.Tensor([1 2 3 4], shape=(4,), dtype=int64)\n"
          ]
        }
      ]
    },
    {
      "cell_type": "code",
      "source": [
        "# Identity matrix\n",
        "eye_tensor = tf.eye(\n",
        "    num_rows = 3,\n",
        "    num_columns=None,\n",
        "    batch_shape=None,\n",
        "    dtype=tf.dtypes.float32,\n",
        "    name=None\n",
        ")\n",
        "print(eye_tensor)"
      ],
      "metadata": {
        "colab": {
          "base_uri": "https://localhost:8080/"
        },
        "id": "v2KVp6FR_M8g",
        "outputId": "22c8fca4-980f-47af-b5e5-b3c03a470e8a"
      },
      "execution_count": null,
      "outputs": [
        {
          "output_type": "stream",
          "name": "stdout",
          "text": [
            "tf.Tensor(\n",
            "[[1. 0. 0.]\n",
            " [0. 1. 0.]\n",
            " [0. 0. 1.]], shape=(3, 3), dtype=float32)\n"
          ]
        }
      ]
    },
    {
      "cell_type": "code",
      "source": [
        "tf.test.gpu_device_name()"
      ],
      "metadata": {
        "colab": {
          "base_uri": "https://localhost:8080/",
          "height": 35
        },
        "id": "Ah4wFtyotdr1",
        "outputId": "8f223fe6-5961-4d10-f83d-2713afea9a0e"
      },
      "execution_count": null,
      "outputs": [
        {
          "output_type": "execute_result",
          "data": {
            "text/plain": [
              "'/device:GPU:0'"
            ],
            "application/vnd.google.colaboratory.intrinsic+json": {
              "type": "string"
            }
          },
          "metadata": {},
          "execution_count": 28
        }
      ]
    },
    {
      "cell_type": "code",
      "source": [
        "# Identity matrix\n",
        "eye_tensor = tf.eye(\n",
        "    num_rows = 3,\n",
        "    num_columns=5,\n",
        "    batch_shape=[4],\n",
        "    dtype=tf.dtypes.float32,\n",
        "    name=None\n",
        ")\n",
        "print(eye_tensor*3)"
      ],
      "metadata": {
        "colab": {
          "base_uri": "https://localhost:8080/"
        },
        "id": "QJJYgXER_PdJ",
        "outputId": "b49b6f4b-05bb-4b3c-9bbf-dd0e20468ddb"
      },
      "execution_count": null,
      "outputs": [
        {
          "output_type": "stream",
          "name": "stdout",
          "text": [
            "tf.Tensor(\n",
            "[[[3. 0. 0. 0. 0.]\n",
            "  [0. 3. 0. 0. 0.]\n",
            "  [0. 0. 3. 0. 0.]]\n",
            "\n",
            " [[3. 0. 0. 0. 0.]\n",
            "  [0. 3. 0. 0. 0.]\n",
            "  [0. 0. 3. 0. 0.]]\n",
            "\n",
            " [[3. 0. 0. 0. 0.]\n",
            "  [0. 3. 0. 0. 0.]\n",
            "  [0. 0. 3. 0. 0.]]\n",
            "\n",
            " [[3. 0. 0. 0. 0.]\n",
            "  [0. 3. 0. 0. 0.]\n",
            "  [0. 0. 3. 0. 0.]]], shape=(4, 3, 5), dtype=float32)\n"
          ]
        }
      ]
    },
    {
      "cell_type": "code",
      "source": [
        "fill_tensor = tf.fill(\n",
        "    [3,4], 5, name=None, layout=None\n",
        ")\n",
        "\n",
        "print(fill_tensor)"
      ],
      "metadata": {
        "colab": {
          "base_uri": "https://localhost:8080/"
        },
        "id": "Gom_MU-y_qDj",
        "outputId": "4f6a7a61-9bca-45b7-f5c2-65656811e576"
      },
      "execution_count": null,
      "outputs": [
        {
          "output_type": "stream",
          "name": "stdout",
          "text": [
            "tf.Tensor(\n",
            "[[5 5 5 5]\n",
            " [5 5 5 5]\n",
            " [5 5 5 5]], shape=(3, 4), dtype=int32)\n"
          ]
        }
      ]
    },
    {
      "cell_type": "code",
      "source": [
        "tensor_ones = tf.ones(\n",
        "    [4,3,2],\n",
        "    dtype=tf.dtypes.float32,\n",
        "    name=None,\n",
        "    layout=None\n",
        ")\n",
        "print(tensor_ones)"
      ],
      "metadata": {
        "colab": {
          "base_uri": "https://localhost:8080/"
        },
        "id": "h-Dr2VY1CTSD",
        "outputId": "3696d7e6-aeba-4c4a-a0ed-76132af25726"
      },
      "execution_count": null,
      "outputs": [
        {
          "output_type": "stream",
          "name": "stdout",
          "text": [
            "tf.Tensor(\n",
            "[[[1. 1.]\n",
            "  [1. 1.]\n",
            "  [1. 1.]]\n",
            "\n",
            " [[1. 1.]\n",
            "  [1. 1.]\n",
            "  [1. 1.]]\n",
            "\n",
            " [[1. 1.]\n",
            "  [1. 1.]\n",
            "  [1. 1.]]\n",
            "\n",
            " [[1. 1.]\n",
            "  [1. 1.]\n",
            "  [1. 1.]]], shape=(4, 3, 2), dtype=float32)\n"
          ]
        }
      ]
    },
    {
      "cell_type": "code",
      "source": [
        "tensor_ones_like = tf.ones_like(\n",
        "    fill_tensor, dtype=None, name=None, layout=None\n",
        ")\n",
        "\n",
        "print(tensor_ones_like)"
      ],
      "metadata": {
        "colab": {
          "base_uri": "https://localhost:8080/"
        },
        "id": "T8EeTaahMcra",
        "outputId": "aa67654f-cae4-483d-a0f9-3e91a85646d3"
      },
      "execution_count": null,
      "outputs": [
        {
          "output_type": "stream",
          "name": "stdout",
          "text": [
            "tf.Tensor(\n",
            "[[1 1 1 1]\n",
            " [1 1 1 1]\n",
            " [1 1 1 1]], shape=(3, 4), dtype=int32)\n"
          ]
        }
      ]
    },
    {
      "cell_type": "code",
      "source": [
        "# two_d = tf.constant([\n",
        "#     [1,2,0],\n",
        "#      [3,5,-1],\n",
        "#       [1,5,6],\n",
        "#        [2,3,8]\n",
        "#      ]\n",
        "#     )\n",
        "\n",
        "\n",
        "print(three_d[0:2, 0, :])"
      ],
      "metadata": {
        "colab": {
          "base_uri": "https://localhost:8080/"
        },
        "id": "szVMmgcaROgI",
        "outputId": "80b0ab1d-389f-46b9-de24-a07454b57e88"
      },
      "execution_count": null,
      "outputs": [
        {
          "output_type": "stream",
          "name": "stdout",
          "text": [
            "tf.Tensor(\n",
            "[[ 1  2  0]\n",
            " [10  2  0]], shape=(2, 3), dtype=int32)\n"
          ]
        }
      ]
    },
    {
      "cell_type": "code",
      "source": [
        "tf.sqrt((-2.25)**2 + 4.75**2)"
      ],
      "metadata": {
        "colab": {
          "base_uri": "https://localhost:8080/"
        },
        "id": "rio92Ntm3ByX",
        "outputId": "449a23b3-2e29-4f4c-d1a9-785b8072f337"
      },
      "execution_count": null,
      "outputs": [
        {
          "output_type": "execute_result",
          "data": {
            "text/plain": [
              "<tf.Tensor: shape=(), dtype=float32, numpy=5.255949>"
            ]
          },
          "metadata": {},
          "execution_count": 29
        }
      ]
    },
    {
      "cell_type": "code",
      "source": [
        "x_1 = tf.constant([\n",
        "         [3,5,-1],\n",
        "       [2,3,8]\n",
        "])\n",
        "x_2 = tf.constant([\n",
        "          [3,5,-1],\n",
        "           [3,5,-1],\n",
        "       [2,3,8]\n",
        "])\n",
        "\n",
        "tf.linalg.matmul(\n",
        "    x_1,\n",
        "    x_2,\n",
        "    transpose_a=False,\n",
        "    transpose_b=False,\n",
        "    adjoint_a=False,\n",
        "    adjoint_b=False,\n",
        "    a_is_sparse=False,\n",
        "    b_is_sparse=False,\n",
        "    output_type=None,\n",
        "    name=None\n",
        ")"
      ],
      "metadata": {
        "colab": {
          "base_uri": "https://localhost:8080/"
        },
        "id": "yp4FJ5168ewK",
        "outputId": "c6ecf38d-bc41-44cb-d19e-62ae099b24a2"
      },
      "execution_count": null,
      "outputs": [
        {
          "output_type": "execute_result",
          "data": {
            "text/plain": [
              "<tf.Tensor: shape=(2, 3), dtype=int32, numpy=\n",
              "array([[ 22,  37, -16],\n",
              "       [ 31,  49,  59]], dtype=int32)>"
            ]
          },
          "metadata": {},
          "execution_count": 50
        }
      ]
    },
    {
      "cell_type": "code",
      "source": [],
      "metadata": {
        "id": "nt_DCc_6FUEb"
      },
      "execution_count": null,
      "outputs": []
    }
  ]
}