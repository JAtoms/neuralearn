{
  "nbformat": 4,
  "nbformat_minor": 0,
  "metadata": {
    "colab": {
      "provenance": [],
      "gpuType": "T4",
      "authorship_tag": "ABX9TyMJHPPI+S6LCSsTOVUQOm6p",
      "include_colab_link": true
    },
    "kernelspec": {
      "name": "python3",
      "display_name": "Python 3"
    },
    "language_info": {
      "name": "python"
    },
    "accelerator": "GPU"
  },
  "cells": [
    {
      "cell_type": "markdown",
      "metadata": {
        "id": "view-in-github",
        "colab_type": "text"
      },
      "source": [
        "<a href=\"https://colab.research.google.com/github/JAtoms/neuralearn/blob/main/tensor_learn.ipynb\" target=\"_parent\"><img src=\"https://colab.research.google.com/assets/colab-badge.svg\" alt=\"Open In Colab\"/></a>"
      ]
    },
    {
      "cell_type": "code",
      "source": [
        "import tensorflow as tf"
      ],
      "metadata": {
        "id": "qH-EwN93Tfdn"
      },
      "execution_count": 1,
      "outputs": []
    },
    {
      "cell_type": "code",
      "source": [
        "tensor_zero_d = tf.constant(4)\n",
        "print(tensor_zero_d)"
      ],
      "metadata": {
        "colab": {
          "base_uri": "https://localhost:8080/"
        },
        "id": "yiWgfOppdDCM",
        "outputId": "05b0397e-dcb4-4818-e8fc-f2641dd00bbe"
      },
      "execution_count": 2,
      "outputs": [
        {
          "output_type": "stream",
          "name": "stdout",
          "text": [
            "tf.Tensor(4, shape=(), dtype=int32)\n"
          ]
        }
      ]
    },
    {
      "cell_type": "code",
      "source": [
        "one_d = tf.constant([2,0,-3,8,90])\n",
        "print(one_d)"
      ],
      "metadata": {
        "colab": {
          "base_uri": "https://localhost:8080/"
        },
        "id": "H51nA00ww63j",
        "outputId": "63e7a8cd-7a67-4e01-ae3c-1d43336993a5"
      },
      "execution_count": 3,
      "outputs": [
        {
          "output_type": "stream",
          "name": "stdout",
          "text": [
            "tf.Tensor([ 2  0 -3  8 90], shape=(5,), dtype=int32)\n"
          ]
        }
      ]
    },
    {
      "cell_type": "code",
      "source": [
        "two_d = tf.constant([\n",
        "    [1,2,0],\n",
        "     [3,5,-1],\n",
        "      [1,5,6],\n",
        "       [2,3,8]\n",
        "     ]\n",
        "    )\n",
        "print(two_d.ndim)"
      ],
      "metadata": {
        "colab": {
          "base_uri": "https://localhost:8080/"
        },
        "id": "voekxh6VxdQ4",
        "outputId": "b5043bc6-7db9-4f9c-9cdd-2af997480e12"
      },
      "execution_count": 4,
      "outputs": [
        {
          "output_type": "stream",
          "name": "stdout",
          "text": [
            "2\n"
          ]
        }
      ]
    },
    {
      "cell_type": "code",
      "source": [
        "three_d = tf.constant([\n",
        "    [[1,2,0],\n",
        "    [3,5,-1]],\n",
        "\n",
        "    [[10,2,0],\n",
        "    [1,0,2]],\n",
        "\n",
        "    [[5,8,0],\n",
        "    [2,7,0]],\n",
        "\n",
        "    [[2,1,9],\n",
        "    [4,-3,32]],\n",
        "\n",
        "])\n",
        "\n",
        "print(three_d.shape)"
      ],
      "metadata": {
        "colab": {
          "base_uri": "https://localhost:8080/"
        },
        "id": "uQYFLORFyDHt",
        "outputId": "c70d9c2e-9359-4b94-f43a-90ec95b73fb9"
      },
      "execution_count": 5,
      "outputs": [
        {
          "output_type": "stream",
          "name": "stdout",
          "text": [
            "(4, 2, 3)\n"
          ]
        }
      ]
    },
    {
      "cell_type": "code",
      "source": [
        "four_d = tf.constant([\n",
        "    [\n",
        "    [[1,2,0],\n",
        "    [3,5,-1]],\n",
        "\n",
        "    [[10,2,0],\n",
        "    [1,0,2]],\n",
        "\n",
        "    [[5,8,0],\n",
        "    [2,7,0]],\n",
        "\n",
        "    [[2,1,9],\n",
        "    [4,-3,32]],\n",
        "    ],\n",
        "\n",
        "    [\n",
        "    [[1,2,0],\n",
        "    [3,5,-1]],\n",
        "\n",
        "    [[10,2,0],\n",
        "    [1,0,2]],\n",
        "\n",
        "    [[5,8,0],\n",
        "    [2,7,0]],\n",
        "\n",
        "    [[2,1,9],\n",
        "    [4,-3,32]],\n",
        "    ],\n",
        "\n",
        "])\n",
        "\n",
        "print(four_d.shape)\n",
        "print(four_d.ndim)\n",
        "four_casted = tf.cast(four_d, dtype = tf.bool)\n",
        "print(four_casted)"
      ],
      "metadata": {
        "colab": {
          "base_uri": "https://localhost:8080/"
        },
        "id": "IR32gIr5zz6S",
        "outputId": "01008a86-49e5-42f9-cbd6-1ee648c5e6d0"
      },
      "execution_count": 6,
      "outputs": [
        {
          "output_type": "stream",
          "name": "stdout",
          "text": [
            "(2, 4, 2, 3)\n",
            "4\n",
            "tf.Tensor(\n",
            "[[[[ True  True False]\n",
            "   [ True  True  True]]\n",
            "\n",
            "  [[ True  True False]\n",
            "   [ True False  True]]\n",
            "\n",
            "  [[ True  True False]\n",
            "   [ True  True False]]\n",
            "\n",
            "  [[ True  True  True]\n",
            "   [ True  True  True]]]\n",
            "\n",
            "\n",
            " [[[ True  True False]\n",
            "   [ True  True  True]]\n",
            "\n",
            "  [[ True  True False]\n",
            "   [ True False  True]]\n",
            "\n",
            "  [[ True  True False]\n",
            "   [ True  True False]]\n",
            "\n",
            "  [[ True  True  True]\n",
            "   [ True  True  True]]]], shape=(2, 4, 2, 3), dtype=bool)\n"
          ]
        }
      ]
    },
    {
      "cell_type": "code",
      "source": [
        "import numpy as np"
      ],
      "metadata": {
        "id": "b_Sg3Gai4f3u"
      },
      "execution_count": 7,
      "outputs": []
    },
    {
      "cell_type": "code",
      "source": [
        "np_array = np.array([1,2,3,4])\n",
        "print(np_array)"
      ],
      "metadata": {
        "colab": {
          "base_uri": "https://localhost:8080/"
        },
        "id": "1tHusLnm4k5i",
        "outputId": "87ce93c7-dda7-4eef-f019-b76e414be74b"
      },
      "execution_count": 8,
      "outputs": [
        {
          "output_type": "stream",
          "name": "stdout",
          "text": [
            "[1 2 3 4]\n"
          ]
        }
      ]
    },
    {
      "cell_type": "code",
      "source": [
        "converted_tensor = tf.convert_to_tensor(np_array)\n",
        "print(converted_tensor)"
      ],
      "metadata": {
        "colab": {
          "base_uri": "https://localhost:8080/"
        },
        "id": "jrUZmRyx5ZPo",
        "outputId": "0acbf6c6-6686-419f-98aa-5fc678dc9921"
      },
      "execution_count": 9,
      "outputs": [
        {
          "output_type": "stream",
          "name": "stdout",
          "text": [
            "tf.Tensor([1 2 3 4], shape=(4,), dtype=int64)\n"
          ]
        }
      ]
    },
    {
      "cell_type": "code",
      "source": [
        "# Identity matrix\n",
        "eye_tensor = tf.eye(\n",
        "    num_rows = 3,\n",
        "    num_columns=None,\n",
        "    batch_shape=None,\n",
        "    dtype=tf.dtypes.float32,\n",
        "    name=None\n",
        ")\n",
        "print(eye_tensor)"
      ],
      "metadata": {
        "colab": {
          "base_uri": "https://localhost:8080/"
        },
        "id": "v2KVp6FR_M8g",
        "outputId": "7c3f66c1-5293-4750-de1e-804ef7121e29"
      },
      "execution_count": 10,
      "outputs": [
        {
          "output_type": "stream",
          "name": "stdout",
          "text": [
            "tf.Tensor(\n",
            "[[1. 0. 0.]\n",
            " [0. 1. 0.]\n",
            " [0. 0. 1.]], shape=(3, 3), dtype=float32)\n"
          ]
        }
      ]
    },
    {
      "cell_type": "code",
      "source": [
        "tf.test.gpu_device_name()"
      ],
      "metadata": {
        "colab": {
          "base_uri": "https://localhost:8080/",
          "height": 35
        },
        "id": "Ah4wFtyotdr1",
        "outputId": "b3a7847f-80c0-4106-d459-c4cf25d351b8"
      },
      "execution_count": 11,
      "outputs": [
        {
          "output_type": "execute_result",
          "data": {
            "text/plain": [
              "'/device:GPU:0'"
            ],
            "application/vnd.google.colaboratory.intrinsic+json": {
              "type": "string"
            }
          },
          "metadata": {},
          "execution_count": 11
        }
      ]
    },
    {
      "cell_type": "code",
      "source": [
        "# Identity matrix\n",
        "eye_tensor = tf.eye(\n",
        "    num_rows = 3,\n",
        "    num_columns=5,\n",
        "    batch_shape=[4],\n",
        "    dtype=tf.dtypes.float32,\n",
        "    name=None\n",
        ")\n",
        "print(eye_tensor*3)"
      ],
      "metadata": {
        "colab": {
          "base_uri": "https://localhost:8080/"
        },
        "id": "QJJYgXER_PdJ",
        "outputId": "3527accc-d670-42f5-945a-ec4196cbcca7"
      },
      "execution_count": 12,
      "outputs": [
        {
          "output_type": "stream",
          "name": "stdout",
          "text": [
            "tf.Tensor(\n",
            "[[[3. 0. 0. 0. 0.]\n",
            "  [0. 3. 0. 0. 0.]\n",
            "  [0. 0. 3. 0. 0.]]\n",
            "\n",
            " [[3. 0. 0. 0. 0.]\n",
            "  [0. 3. 0. 0. 0.]\n",
            "  [0. 0. 3. 0. 0.]]\n",
            "\n",
            " [[3. 0. 0. 0. 0.]\n",
            "  [0. 3. 0. 0. 0.]\n",
            "  [0. 0. 3. 0. 0.]]\n",
            "\n",
            " [[3. 0. 0. 0. 0.]\n",
            "  [0. 3. 0. 0. 0.]\n",
            "  [0. 0. 3. 0. 0.]]], shape=(4, 3, 5), dtype=float32)\n"
          ]
        }
      ]
    },
    {
      "cell_type": "code",
      "source": [
        "fill_tensor = tf.fill(\n",
        "    [3,4], 5, name=None, layout=None\n",
        ")\n",
        "\n",
        "print(fill_tensor)"
      ],
      "metadata": {
        "colab": {
          "base_uri": "https://localhost:8080/"
        },
        "id": "Gom_MU-y_qDj",
        "outputId": "11afa44c-13c5-4d42-8a4b-3762c125d9bc"
      },
      "execution_count": 13,
      "outputs": [
        {
          "output_type": "stream",
          "name": "stdout",
          "text": [
            "tf.Tensor(\n",
            "[[5 5 5 5]\n",
            " [5 5 5 5]\n",
            " [5 5 5 5]], shape=(3, 4), dtype=int32)\n"
          ]
        }
      ]
    },
    {
      "cell_type": "code",
      "source": [
        "tensor_ones = tf.ones(\n",
        "    [4,3,2],\n",
        "    dtype=tf.dtypes.float32,\n",
        "    name=None,\n",
        "    layout=None\n",
        ")\n",
        "print(tensor_ones)"
      ],
      "metadata": {
        "colab": {
          "base_uri": "https://localhost:8080/"
        },
        "id": "h-Dr2VY1CTSD",
        "outputId": "5227e935-fd12-4fbf-be2c-3dc587b9ae4d"
      },
      "execution_count": 14,
      "outputs": [
        {
          "output_type": "stream",
          "name": "stdout",
          "text": [
            "tf.Tensor(\n",
            "[[[1. 1.]\n",
            "  [1. 1.]\n",
            "  [1. 1.]]\n",
            "\n",
            " [[1. 1.]\n",
            "  [1. 1.]\n",
            "  [1. 1.]]\n",
            "\n",
            " [[1. 1.]\n",
            "  [1. 1.]\n",
            "  [1. 1.]]\n",
            "\n",
            " [[1. 1.]\n",
            "  [1. 1.]\n",
            "  [1. 1.]]], shape=(4, 3, 2), dtype=float32)\n"
          ]
        }
      ]
    },
    {
      "cell_type": "code",
      "source": [
        "tensor_ones_like = tf.ones_like(\n",
        "    fill_tensor, dtype=None, name=None, layout=None\n",
        ")\n",
        "\n",
        "print(tensor_ones_like)"
      ],
      "metadata": {
        "colab": {
          "base_uri": "https://localhost:8080/"
        },
        "id": "T8EeTaahMcra",
        "outputId": "cf117202-6e5a-416e-8f6d-4928959d08e1"
      },
      "execution_count": 15,
      "outputs": [
        {
          "output_type": "stream",
          "name": "stdout",
          "text": [
            "tf.Tensor(\n",
            "[[1 1 1 1]\n",
            " [1 1 1 1]\n",
            " [1 1 1 1]], shape=(3, 4), dtype=int32)\n"
          ]
        }
      ]
    },
    {
      "cell_type": "code",
      "source": [
        "# two_d = tf.constant([\n",
        "#     [1,2,0],\n",
        "#      [3,5,-1],\n",
        "#       [1,5,6],\n",
        "#        [2,3,8]\n",
        "#      ]\n",
        "#     )\n",
        "\n",
        "\n",
        "print(three_d[0:2, 0, :])"
      ],
      "metadata": {
        "colab": {
          "base_uri": "https://localhost:8080/"
        },
        "id": "szVMmgcaROgI",
        "outputId": "60c4d28d-7e60-42ab-e5eb-baaeba71ad4e"
      },
      "execution_count": 16,
      "outputs": [
        {
          "output_type": "stream",
          "name": "stdout",
          "text": [
            "tf.Tensor(\n",
            "[[ 1  2  0]\n",
            " [10  2  0]], shape=(2, 3), dtype=int32)\n"
          ]
        }
      ]
    },
    {
      "cell_type": "code",
      "source": [
        "tf.sqrt((-2.25)**2 + 4.75**2)"
      ],
      "metadata": {
        "colab": {
          "base_uri": "https://localhost:8080/"
        },
        "id": "rio92Ntm3ByX",
        "outputId": "973ff172-939d-4103-dc2b-4eb22cab5ef8"
      },
      "execution_count": 17,
      "outputs": [
        {
          "output_type": "execute_result",
          "data": {
            "text/plain": [
              "<tf.Tensor: shape=(), dtype=float32, numpy=5.255949>"
            ]
          },
          "metadata": {},
          "execution_count": 17
        }
      ]
    },
    {
      "cell_type": "code",
      "source": [
        "x_1 = tf.constant([\n",
        "         [3,5,-1],\n",
        "       [2,3,8]\n",
        "])\n",
        "x_2 = tf.constant([\n",
        "          [3,5,-1],\n",
        "           [3,5,-1],\n",
        "       [2,3,8]\n",
        "])\n",
        "\n",
        "tf.linalg.matmul(\n",
        "    x_1,\n",
        "    x_2,\n",
        "    transpose_a=False,\n",
        "    transpose_b=False,\n",
        "    adjoint_a=False,\n",
        "    adjoint_b=False,\n",
        "    a_is_sparse=False,\n",
        "    b_is_sparse=False,\n",
        "    output_type=None,\n",
        "    name=None\n",
        ")"
      ],
      "metadata": {
        "colab": {
          "base_uri": "https://localhost:8080/"
        },
        "id": "yp4FJ5168ewK",
        "outputId": "fe001d4f-e98f-4b71-a126-ebf8207695f0"
      },
      "execution_count": 18,
      "outputs": [
        {
          "output_type": "execute_result",
          "data": {
            "text/plain": [
              "<tf.Tensor: shape=(2, 3), dtype=int32, numpy=\n",
              "array([[ 22,  37, -16],\n",
              "       [ 31,  49,  59]], dtype=int32)>"
            ]
          },
          "metadata": {},
          "execution_count": 18
        }
      ]
    },
    {
      "cell_type": "markdown",
      "source": [
        "## Matrice Multiplication"
      ],
      "metadata": {
        "id": "GGvhPFvfjn-u"
      }
    },
    {
      "cell_type": "code",
      "source": [
        "A = np.array([\n",
        "    [2,6,5,2],\n",
        "    [2,-2,2,3],\n",
        "    [1,5,4,0]\n",
        "])\n",
        "\n",
        "B = np.array([\n",
        "    [2,9,0,3,0],\n",
        "    [3,6,8,-2,2],\n",
        "    [1,3,5,0,1],\n",
        "    [3,0,2,0,5],\n",
        "])\n",
        "\n",
        "np.matmul(A,B)"
      ],
      "metadata": {
        "id": "vrdh467QhJYw",
        "outputId": "4364426c-d356-4c44-fe06-1eefd7a93d0d",
        "colab": {
          "base_uri": "https://localhost:8080/"
        }
      },
      "execution_count": 21,
      "outputs": [
        {
          "output_type": "execute_result",
          "data": {
            "text/plain": [
              "array([[33, 69, 77, -6, 27],\n",
              "       [ 9, 12,  0, 10, 13],\n",
              "       [21, 51, 60, -7, 14]])"
            ]
          },
          "metadata": {},
          "execution_count": 21
        }
      ]
    },
    {
      "cell_type": "markdown",
      "source": [
        "## Einsum Multiplication\n",
        "Einsum multiplication handles matmul, transpose and element wise multiplication"
      ],
      "metadata": {
        "id": "G13f49fSjqK2"
      }
    },
    {
      "cell_type": "code",
      "source": [
        "A = np.array([\n",
        "    [2,6,5,2],\n",
        "    [2,-2,2,3],\n",
        "    [1,5,4,0]\n",
        "])\n",
        "\n",
        "B = np.array([\n",
        "    [2,9,0,3],\n",
        "    [3,6,8,-2],\n",
        "    [1,3,5,0]\n",
        "])\n",
        "\n",
        "np.einsum( 'ij,ij -> ij',A,B)"
      ],
      "metadata": {
        "id": "o3A5c2vJju7y",
        "outputId": "53a8ae96-82a9-46c5-8e2a-4f98d688d1de",
        "colab": {
          "base_uri": "https://localhost:8080/"
        }
      },
      "execution_count": 23,
      "outputs": [
        {
          "output_type": "execute_result",
          "data": {
            "text/plain": [
              "array([[  4,  54,   0,   6],\n",
              "       [  6, -12,  16,  -6],\n",
              "       [  1,  15,  20,   0]])"
            ]
          },
          "metadata": {},
          "execution_count": 23
        }
      ]
    },
    {
      "cell_type": "code",
      "source": [
        "A = np.array([\n",
        "\n",
        "    [[2,6,5,2],\n",
        "     [2,-2,2,3],\n",
        "     [1,5,4,0]],\n",
        "\n",
        "    [[2,6,5,2],\n",
        "     [2,-2,2,3],\n",
        "     [1,5,4,0]]\n",
        "    ])\n",
        "B = np.array([\n",
        "    [[2,9,0,3,0],\n",
        "     [3,6,8,-2,2],\n",
        "     [1,3,5,0,1],\n",
        "     [3,0,2,0,5]],\n",
        "\n",
        "    [[2,9,0,3,0],\n",
        "     [3,6,8,-2,2],\n",
        "     [1,3,5,0,1],\n",
        "     [3,0,2,0,5]]\n",
        "])\n",
        "\n",
        "print(A.shape, B.shape)\n",
        "\n",
        "# np.matmul(A,B)\n",
        "np.einsum('bij,bjk -> bik', A,B)"
      ],
      "metadata": {
        "id": "5mRMcgRdmptx",
        "outputId": "04360c30-5fcd-4abf-c468-27476ae0c88a",
        "colab": {
          "base_uri": "https://localhost:8080/"
        }
      },
      "execution_count": 32,
      "outputs": [
        {
          "output_type": "stream",
          "name": "stdout",
          "text": [
            "(2, 3, 4) (2, 4, 5)\n"
          ]
        },
        {
          "output_type": "execute_result",
          "data": {
            "text/plain": [
              "array([[[33, 69, 77, -6, 27],\n",
              "        [ 9, 12,  0, 10, 13],\n",
              "        [21, 51, 60, -7, 14]],\n",
              "\n",
              "       [[33, 69, 77, -6, 27],\n",
              "        [ 9, 12,  0, 10, 13],\n",
              "        [21, 51, 60, -7, 14]]])"
            ]
          },
          "metadata": {},
          "execution_count": 32
        }
      ]
    }
  ]
}